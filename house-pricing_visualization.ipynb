{
 "cells": [
  {
   "cell_type": "markdown",
   "id": "d90b81c6",
   "metadata": {
    "papermill": {
     "duration": 0.04193,
     "end_time": "2022-01-09T13:36:17.874754",
     "exception": false,
     "start_time": "2022-01-09T13:36:17.832824",
     "status": "completed"
    },
    "tags": []
   },
   "source": [
    "# Load the data"
   ]
  },
  {
   "cell_type": "code",
   "execution_count": 1,
   "id": "205008c3",
   "metadata": {
    "execution": {
     "iopub.execute_input": "2022-01-09T13:36:17.971323Z",
     "iopub.status.busy": "2022-01-09T13:36:17.970547Z",
     "iopub.status.idle": "2022-01-09T13:36:17.982300Z",
     "shell.execute_reply": "2022-01-09T13:36:17.982745Z",
     "shell.execute_reply.started": "2022-01-09T13:34:51.265888Z"
    },
    "papermill": {
     "duration": 0.065604,
     "end_time": "2022-01-09T13:36:17.982974",
     "exception": false,
     "start_time": "2022-01-09T13:36:17.917370",
     "status": "completed"
    },
    "tags": []
   },
   "outputs": [
    {
     "name": "stdout",
     "output_type": "stream",
     "text": [
      "Dataset/offers_cluj-napoca_2022-03-25.csv\n"
     ]
    }
   ],
   "source": [
    "# This Python 3 environment comes with many helpful analytics libraries installed\n",
    "# It is defined by the kaggle/python Docker image: https://github.com/kaggle/docker-python\n",
    "# For example, here's several helpful packages to load\n",
    "\n",
    "import numpy as np # linear algebra\n",
    "import pandas as pd # data processing, CSV file I/O (e.g. pd.read_csv)\n",
    "\n",
    "# Input data files are available in the read-only \"../input/\" directory\n",
    "# For example, running this (by clicking run or pressing Shift+Enter) will list all files under the input directory\n",
    "dirpath = 'Dataset/'\n",
    "import os\n",
    "for dirname, _, filenames in os.walk(dirpath):\n",
    "    for filename in filenames:\n",
    "        print(os.path.join(dirname, filename))\n",
    "\n",
    "# You can write up to 20GB to the current directory (/kaggle/working/) that gets preserved as output when you create a version using \"Save & Run All\" \n",
    "# You can also write temporary files to /kaggle/temp/, but they won't be saved outside of the current session"
   ]
  },
  {
   "cell_type": "code",
   "execution_count": 2,
   "id": "16d0c5c1",
   "metadata": {
    "execution": {
     "iopub.execute_input": "2022-01-09T13:36:18.070870Z",
     "iopub.status.busy": "2022-01-09T13:36:18.070255Z",
     "iopub.status.idle": "2022-01-09T13:36:18.901417Z",
     "shell.execute_reply": "2022-01-09T13:36:18.901831Z",
     "shell.execute_reply.started": "2022-01-09T13:34:51.276761Z"
    },
    "papermill": {
     "duration": 0.877245,
     "end_time": "2022-01-09T13:36:18.901991",
     "exception": false,
     "start_time": "2022-01-09T13:36:18.024746",
     "status": "completed"
    },
    "tags": []
   },
   "outputs": [
    {
     "data": {
      "text/html": [
       "<svg  width=\"440\" height=\"55\"><rect x=\"0\" y=\"0\" width=\"55\" height=\"55\" style=\"fill:#db5f57;stroke-width:2;stroke:rgb(255,255,255)\"/><rect x=\"55\" y=\"0\" width=\"55\" height=\"55\" style=\"fill:#dbc257;stroke-width:2;stroke:rgb(255,255,255)\"/><rect x=\"110\" y=\"0\" width=\"55\" height=\"55\" style=\"fill:#91db57;stroke-width:2;stroke:rgb(255,255,255)\"/><rect x=\"165\" y=\"0\" width=\"55\" height=\"55\" style=\"fill:#57db80;stroke-width:2;stroke:rgb(255,255,255)\"/><rect x=\"220\" y=\"0\" width=\"55\" height=\"55\" style=\"fill:#57d3db;stroke-width:2;stroke:rgb(255,255,255)\"/><rect x=\"275\" y=\"0\" width=\"55\" height=\"55\" style=\"fill:#5770db;stroke-width:2;stroke:rgb(255,255,255)\"/><rect x=\"330\" y=\"0\" width=\"55\" height=\"55\" style=\"fill:#a157db;stroke-width:2;stroke:rgb(255,255,255)\"/><rect x=\"385\" y=\"0\" width=\"55\" height=\"55\" style=\"fill:#db57b2;stroke-width:2;stroke:rgb(255,255,255)\"/></svg>"
      ],
      "text/plain": [
       "[(0.86, 0.3712, 0.33999999999999997),\n",
       " (0.86, 0.7612000000000001, 0.33999999999999997),\n",
       " (0.5688000000000001, 0.86, 0.33999999999999997),\n",
       " (0.33999999999999997, 0.86, 0.5012000000000001),\n",
       " (0.33999999999999997, 0.8287999999999999, 0.86),\n",
       " (0.33999999999999997, 0.43879999999999986, 0.86),\n",
       " (0.6311999999999998, 0.33999999999999997, 0.86),\n",
       " (0.86, 0.33999999999999997, 0.6987999999999996)]"
      ]
     },
     "execution_count": 2,
     "metadata": {},
     "output_type": "execute_result"
    }
   ],
   "source": [
    "## import libraries\n",
    "\n",
    "import pandas as pd\n",
    "import numpy as np\n",
    "import matplotlib.pyplot as plt\n",
    "import seaborn as sns\n",
    "import warnings\n",
    "from pylab import rcParams\n",
    "from warnings import filterwarnings\n",
    "filterwarnings('ignore')\n",
    "rcParams['figure.figsize'] = 12,7\n",
    "sns.color_palette(\"hls\", 8)"
   ]
  },
  {
   "cell_type": "code",
   "execution_count": 3,
   "id": "6c7211c4",
   "metadata": {
    "execution": {
     "iopub.execute_input": "2022-01-09T13:36:18.988074Z",
     "iopub.status.busy": "2022-01-09T13:36:18.987405Z",
     "iopub.status.idle": "2022-01-09T13:36:19.020458Z",
     "shell.execute_reply": "2022-01-09T13:36:19.019973Z",
     "shell.execute_reply.started": "2022-01-09T13:34:51.291399Z"
    },
    "papermill": {
     "duration": 0.078103,
     "end_time": "2022-01-09T13:36:19.020577",
     "exception": false,
     "start_time": "2022-01-09T13:36:18.942474",
     "status": "completed"
    },
    "tags": []
   },
   "outputs": [],
   "source": [
    "df = pd.read_csv(dirpath+\"/offers_cluj-napoca_2022-03-25.csv\")  # Reading dataset"
   ]
  },
  {
   "cell_type": "markdown",
   "id": "867d93cc",
   "metadata": {
    "papermill": {
     "duration": 0.040856,
     "end_time": "2022-01-09T13:36:19.102790",
     "exception": false,
     "start_time": "2022-01-09T13:36:19.061934",
     "status": "completed"
    },
    "tags": []
   },
   "source": [
    "# Exploratory Data Analysis"
   ]
  },
  {
   "cell_type": "code",
   "execution_count": 4,
   "id": "87ce15d2",
   "metadata": {
    "execution": {
     "iopub.execute_input": "2022-01-09T13:36:19.193085Z",
     "iopub.status.busy": "2022-01-09T13:36:19.192189Z",
     "iopub.status.idle": "2022-01-09T13:36:19.229910Z",
     "shell.execute_reply": "2022-01-09T13:36:19.228427Z",
     "shell.execute_reply.started": "2022-01-09T13:34:51.315745Z"
    },
    "papermill": {
     "duration": 0.086967,
     "end_time": "2022-01-09T13:36:19.230201",
     "exception": false,
     "start_time": "2022-01-09T13:36:19.143234",
     "status": "completed"
    },
    "tags": []
   },
   "outputs": [
    {
     "data": {
      "text/html": [
       "<div>\n",
       "<style scoped>\n",
       "    .dataframe tbody tr th:only-of-type {\n",
       "        vertical-align: middle;\n",
       "    }\n",
       "\n",
       "    .dataframe tbody tr th {\n",
       "        vertical-align: top;\n",
       "    }\n",
       "\n",
       "    .dataframe thead th {\n",
       "        text-align: right;\n",
       "    }\n",
       "</style>\n",
       "<table border=\"1\" class=\"dataframe\">\n",
       "  <thead>\n",
       "    <tr style=\"text-align: right;\">\n",
       "      <th></th>\n",
       "      <th>bathrooms</th>\n",
       "      <th>floor</th>\n",
       "      <th>rooms</th>\n",
       "      <th>surface</th>\n",
       "      <th>state</th>\n",
       "      <th>zone</th>\n",
       "      <th>ad_price</th>\n",
       "    </tr>\n",
       "  </thead>\n",
       "  <tbody>\n",
       "    <tr>\n",
       "      <th>0</th>\n",
       "      <td>1.0</td>\n",
       "      <td>0.500</td>\n",
       "      <td>2.0</td>\n",
       "      <td>82.0</td>\n",
       "      <td>nou</td>\n",
       "      <td>Marasti</td>\n",
       "      <td>750.0</td>\n",
       "    </tr>\n",
       "    <tr>\n",
       "      <th>1</th>\n",
       "      <td>1.0</td>\n",
       "      <td>0.250</td>\n",
       "      <td>2.0</td>\n",
       "      <td>65.0</td>\n",
       "      <td>utilizat</td>\n",
       "      <td>Oasului</td>\n",
       "      <td>350.0</td>\n",
       "    </tr>\n",
       "    <tr>\n",
       "      <th>2</th>\n",
       "      <td>1.0</td>\n",
       "      <td>0.000</td>\n",
       "      <td>2.0</td>\n",
       "      <td>72.0</td>\n",
       "      <td>nou</td>\n",
       "      <td>Manastur</td>\n",
       "      <td>372.0</td>\n",
       "    </tr>\n",
       "    <tr>\n",
       "      <th>3</th>\n",
       "      <td>1.0</td>\n",
       "      <td>0.333</td>\n",
       "      <td>2.0</td>\n",
       "      <td>65.0</td>\n",
       "      <td>renovat</td>\n",
       "      <td>Ploiesti</td>\n",
       "      <td>470.0</td>\n",
       "    </tr>\n",
       "    <tr>\n",
       "      <th>4</th>\n",
       "      <td>1.0</td>\n",
       "      <td>2.000</td>\n",
       "      <td>2.0</td>\n",
       "      <td>45.0</td>\n",
       "      <td>nou</td>\n",
       "      <td>Dambul Rotund</td>\n",
       "      <td>290.0</td>\n",
       "    </tr>\n",
       "  </tbody>\n",
       "</table>\n",
       "</div>"
      ],
      "text/plain": [
       "   bathrooms  floor  rooms  surface     state           zone  ad_price\n",
       "0        1.0  0.500    2.0     82.0       nou        Marasti     750.0\n",
       "1        1.0  0.250    2.0     65.0  utilizat        Oasului     350.0\n",
       "2        1.0  0.000    2.0     72.0       nou       Manastur     372.0\n",
       "3        1.0  0.333    2.0     65.0   renovat       Ploiesti     470.0\n",
       "4        1.0  2.000    2.0     45.0       nou  Dambul Rotund     290.0"
      ]
     },
     "execution_count": 4,
     "metadata": {},
     "output_type": "execute_result"
    }
   ],
   "source": [
    "df.head() # looking at the first 5 rows "
   ]
  },
  {
   "cell_type": "code",
   "execution_count": 7,
   "id": "7b2db91d",
   "metadata": {
    "execution": {
     "iopub.execute_input": "2022-01-09T13:36:19.388755Z",
     "iopub.status.busy": "2022-01-09T13:36:19.386504Z",
     "iopub.status.idle": "2022-01-09T13:36:19.391461Z",
     "shell.execute_reply": "2022-01-09T13:36:19.390794Z",
     "shell.execute_reply.started": "2022-01-09T13:34:51.338652Z"
    },
    "papermill": {
     "duration": 0.076704,
     "end_time": "2022-01-09T13:36:19.391630",
     "exception": false,
     "start_time": "2022-01-09T13:36:19.314926",
     "status": "completed"
    },
    "tags": []
   },
   "outputs": [
    {
     "data": {
      "text/plain": [
       "(853, 7)"
      ]
     },
     "execution_count": 7,
     "metadata": {},
     "output_type": "execute_result"
    }
   ],
   "source": [
    "df.shape # looking at the shape. we have 4600 rows and 18 columns."
   ]
  },
  {
   "cell_type": "code",
   "execution_count": 8,
   "id": "80f14358",
   "metadata": {
    "execution": {
     "iopub.execute_input": "2022-01-09T13:36:19.538039Z",
     "iopub.status.busy": "2022-01-09T13:36:19.537250Z",
     "iopub.status.idle": "2022-01-09T13:36:19.561540Z",
     "shell.execute_reply": "2022-01-09T13:36:19.560754Z",
     "shell.execute_reply.started": "2022-01-09T13:34:51.350833Z"
    },
    "papermill": {
     "duration": 0.102524,
     "end_time": "2022-01-09T13:36:19.561760",
     "exception": false,
     "start_time": "2022-01-09T13:36:19.459236",
     "status": "completed"
    },
    "tags": []
   },
   "outputs": [
    {
     "name": "stdout",
     "output_type": "stream",
     "text": [
      "<class 'pandas.core.frame.DataFrame'>\n",
      "RangeIndex: 853 entries, 0 to 852\n",
      "Data columns (total 7 columns):\n",
      " #   Column     Non-Null Count  Dtype  \n",
      "---  ------     --------------  -----  \n",
      " 0   bathrooms  853 non-null    float64\n",
      " 1   floor      853 non-null    float64\n",
      " 2   rooms      853 non-null    float64\n",
      " 3   surface    853 non-null    float64\n",
      " 4   state      853 non-null    object \n",
      " 5   zone       853 non-null    object \n",
      " 6   ad_price   853 non-null    float64\n",
      "dtypes: float64(5), object(2)\n",
      "memory usage: 46.8+ KB\n"
     ]
    }
   ],
   "source": [
    "df.info() # looking at information"
   ]
  },
  {
   "cell_type": "code",
   "execution_count": 9,
   "id": "847d39d8",
   "metadata": {
    "execution": {
     "iopub.execute_input": "2022-01-09T13:36:19.717557Z",
     "iopub.status.busy": "2022-01-09T13:36:19.716728Z",
     "iopub.status.idle": "2022-01-09T13:36:19.777249Z",
     "shell.execute_reply": "2022-01-09T13:36:19.778271Z",
     "shell.execute_reply.started": "2022-01-09T13:34:51.370948Z"
    },
    "papermill": {
     "duration": 0.140426,
     "end_time": "2022-01-09T13:36:19.778473",
     "exception": false,
     "start_time": "2022-01-09T13:36:19.638047",
     "status": "completed"
    },
    "tags": []
   },
   "outputs": [
    {
     "data": {
      "text/html": [
       "<div>\n",
       "<style scoped>\n",
       "    .dataframe tbody tr th:only-of-type {\n",
       "        vertical-align: middle;\n",
       "    }\n",
       "\n",
       "    .dataframe tbody tr th {\n",
       "        vertical-align: top;\n",
       "    }\n",
       "\n",
       "    .dataframe thead th {\n",
       "        text-align: right;\n",
       "    }\n",
       "</style>\n",
       "<table border=\"1\" class=\"dataframe\">\n",
       "  <thead>\n",
       "    <tr style=\"text-align: right;\">\n",
       "      <th></th>\n",
       "      <th>bathrooms</th>\n",
       "      <th>floor</th>\n",
       "      <th>rooms</th>\n",
       "      <th>surface</th>\n",
       "      <th>ad_price</th>\n",
       "    </tr>\n",
       "  </thead>\n",
       "  <tbody>\n",
       "    <tr>\n",
       "      <th>count</th>\n",
       "      <td>853.000000</td>\n",
       "      <td>853.000000</td>\n",
       "      <td>853.000000</td>\n",
       "      <td>853.000000</td>\n",
       "      <td>853.000000</td>\n",
       "    </tr>\n",
       "    <tr>\n",
       "      <th>mean</th>\n",
       "      <td>1.215709</td>\n",
       "      <td>0.627067</td>\n",
       "      <td>2.243845</td>\n",
       "      <td>68.125440</td>\n",
       "      <td>500.113716</td>\n",
       "    </tr>\n",
       "    <tr>\n",
       "      <th>std</th>\n",
       "      <td>0.457475</td>\n",
       "      <td>0.863865</td>\n",
       "      <td>0.818851</td>\n",
       "      <td>31.489129</td>\n",
       "      <td>219.716110</td>\n",
       "    </tr>\n",
       "    <tr>\n",
       "      <th>min</th>\n",
       "      <td>1.000000</td>\n",
       "      <td>-1.000000</td>\n",
       "      <td>1.000000</td>\n",
       "      <td>11.000000</td>\n",
       "      <td>150.000000</td>\n",
       "    </tr>\n",
       "    <tr>\n",
       "      <th>25%</th>\n",
       "      <td>1.000000</td>\n",
       "      <td>0.000000</td>\n",
       "      <td>2.000000</td>\n",
       "      <td>54.000000</td>\n",
       "      <td>399.000000</td>\n",
       "    </tr>\n",
       "    <tr>\n",
       "      <th>50%</th>\n",
       "      <td>1.000000</td>\n",
       "      <td>0.500000</td>\n",
       "      <td>2.000000</td>\n",
       "      <td>63.000000</td>\n",
       "      <td>450.000000</td>\n",
       "    </tr>\n",
       "    <tr>\n",
       "      <th>75%</th>\n",
       "      <td>1.000000</td>\n",
       "      <td>0.875000</td>\n",
       "      <td>3.000000</td>\n",
       "      <td>76.000000</td>\n",
       "      <td>550.000000</td>\n",
       "    </tr>\n",
       "    <tr>\n",
       "      <th>max</th>\n",
       "      <td>4.000000</td>\n",
       "      <td>9.000000</td>\n",
       "      <td>10.000000</td>\n",
       "      <td>500.000000</td>\n",
       "      <td>3000.000000</td>\n",
       "    </tr>\n",
       "  </tbody>\n",
       "</table>\n",
       "</div>"
      ],
      "text/plain": [
       "        bathrooms       floor       rooms     surface     ad_price\n",
       "count  853.000000  853.000000  853.000000  853.000000   853.000000\n",
       "mean     1.215709    0.627067    2.243845   68.125440   500.113716\n",
       "std      0.457475    0.863865    0.818851   31.489129   219.716110\n",
       "min      1.000000   -1.000000    1.000000   11.000000   150.000000\n",
       "25%      1.000000    0.000000    2.000000   54.000000   399.000000\n",
       "50%      1.000000    0.500000    2.000000   63.000000   450.000000\n",
       "75%      1.000000    0.875000    3.000000   76.000000   550.000000\n",
       "max      4.000000    9.000000   10.000000  500.000000  3000.000000"
      ]
     },
     "execution_count": 9,
     "metadata": {},
     "output_type": "execute_result"
    }
   ],
   "source": [
    "df.describe()  # looking at statistical info"
   ]
  },
  {
   "cell_type": "markdown",
   "id": "8d7a54ae",
   "metadata": {
    "papermill": {
     "duration": 0.044727,
     "end_time": "2022-01-09T13:36:20.203278",
     "exception": false,
     "start_time": "2022-01-09T13:36:20.158551",
     "status": "completed"
    },
    "tags": []
   },
   "source": [
    "Let's convert the variables that are float in our dataset to int."
   ]
  },
  {
   "cell_type": "code",
   "execution_count": 11,
   "id": "c8f4a429",
   "metadata": {
    "execution": {
     "iopub.execute_input": "2022-01-09T13:36:20.298733Z",
     "iopub.status.busy": "2022-01-09T13:36:20.297892Z",
     "iopub.status.idle": "2022-01-09T13:36:20.304365Z",
     "shell.execute_reply": "2022-01-09T13:36:20.304838Z",
     "shell.execute_reply.started": "2022-01-09T13:34:51.491210Z"
    },
    "papermill": {
     "duration": 0.057375,
     "end_time": "2022-01-09T13:36:20.304985",
     "exception": false,
     "start_time": "2022-01-09T13:36:20.247610",
     "status": "completed"
    },
    "tags": []
   },
   "outputs": [
    {
     "data": {
      "text/plain": [
       "bathrooms    0\n",
       "floor        0\n",
       "rooms        0\n",
       "surface      0\n",
       "state        0\n",
       "zone         0\n",
       "ad_price     0\n",
       "dtype: int64"
      ]
     },
     "execution_count": 11,
     "metadata": {},
     "output_type": "execute_result"
    }
   ],
   "source": [
    "df.isnull().sum().sort_values(ascending=False) # checking for missing observations"
   ]
  },
  {
   "cell_type": "markdown",
   "id": "cfa7462b",
   "metadata": {
    "papermill": {
     "duration": 0.043448,
     "end_time": "2022-01-09T13:36:20.392596",
     "exception": false,
     "start_time": "2022-01-09T13:36:20.349148",
     "status": "completed"
    },
    "tags": []
   },
   "source": [
    "There are no missing observations in our data set. "
   ]
  },
  {
   "cell_type": "markdown",
   "id": "ba03063b",
   "metadata": {
    "papermill": {
     "duration": 0.043576,
     "end_time": "2022-01-09T13:36:20.479820",
     "exception": false,
     "start_time": "2022-01-09T13:36:20.436244",
     "status": "completed"
    },
    "tags": []
   },
   "source": [
    "# Data Visualization"
   ]
  },
  {
   "cell_type": "code",
   "execution_count": 23,
   "id": "60b5760a",
   "metadata": {
    "execution": {
     "iopub.execute_input": "2022-01-09T13:36:20.574867Z",
     "iopub.status.busy": "2022-01-09T13:36:20.573836Z",
     "iopub.status.idle": "2022-01-09T13:36:22.362466Z",
     "shell.execute_reply": "2022-01-09T13:36:22.363088Z",
     "shell.execute_reply.started": "2022-01-09T13:34:51.503321Z"
    },
    "papermill": {
     "duration": 1.839168,
     "end_time": "2022-01-09T13:36:22.363326",
     "exception": false,
     "start_time": "2022-01-09T13:36:20.524158",
     "status": "completed"
    },
    "tags": []
   },
   "outputs": [
    {
     "data": {
      "text/plain": [
       "<Figure size 1440x720 with 0 Axes>"
      ]
     },
     "metadata": {},
     "output_type": "display_data"
    },
    {
     "data": {
      "image/png": "[encoded data removed]",
      "text/plain": [
       "<Figure size 360x360 with 1 Axes>"
      ]
     },
     "metadata": {
      "needs_background": "light"
     },
     "output_type": "display_data"
    }
   ],
   "source": [
    "price_des = df['ad_price'].describe()\n",
    "\n",
    "plt.figure()\n",
    "sns.displot(df['ad_price'], kde = True)\n",
    "plt.axvline(price_des['mean'], linestyle = \"--\", color = \"red\")\n",
    "plt.title('Price distribution')\n",
    "rcParams['figure.figsize'] = 20,10"
   ]
  },
  {
   "cell_type": "markdown",
   "id": "7570c845",
   "metadata": {
    "papermill": {
     "duration": 0.05017,
     "end_time": "2022-01-09T13:36:22.459584",
     "exception": false,
     "start_time": "2022-01-09T13:36:22.409414",
     "status": "completed"
    },
    "tags": []
   },
   "source": [
    "The price has a right-skewed distribution. To bring this closer to normal, we can subtract the data above 1000000 from our dataset."
   ]
  },
  {
   "cell_type": "code",
   "execution_count": 13,
   "id": "6e60c64e",
   "metadata": {
    "execution": {
     "iopub.execute_input": "2022-01-09T13:36:22.554710Z",
     "iopub.status.busy": "2022-01-09T13:36:22.553878Z",
     "iopub.status.idle": "2022-01-09T13:36:22.560260Z",
     "shell.execute_reply": "2022-01-09T13:36:22.560642Z",
     "shell.execute_reply.started": "2022-01-09T13:34:53.365313Z"
    },
    "papermill": {
     "duration": 0.055854,
     "end_time": "2022-01-09T13:36:22.560800",
     "exception": false,
     "start_time": "2022-01-09T13:36:22.504946",
     "status": "completed"
    },
    "tags": []
   },
   "outputs": [
    {
     "data": {
      "text/plain": [
       "ad_price    500.113716\n",
       "dtype: float64"
      ]
     },
     "execution_count": 13,
     "metadata": {},
     "output_type": "execute_result"
    }
   ],
   "source": [
    "a = df[[\"ad_price\"]].mean()\n",
    "\n",
    "a"
   ]
  },
  {
   "cell_type": "code",
   "execution_count": 14,
   "id": "3fc7b2ae",
   "metadata": {
    "execution": {
     "iopub.execute_input": "2022-01-09T13:36:22.655999Z",
     "iopub.status.busy": "2022-01-09T13:36:22.655377Z",
     "iopub.status.idle": "2022-01-09T13:36:22.657946Z",
     "shell.execute_reply": "2022-01-09T13:36:22.658338Z",
     "shell.execute_reply.started": "2022-01-09T13:34:53.378101Z"
    },
    "papermill": {
     "duration": 0.052967,
     "end_time": "2022-01-09T13:36:22.658467",
     "exception": false,
     "start_time": "2022-01-09T13:36:22.605500",
     "status": "completed"
    },
    "tags": []
   },
   "outputs": [
    {
     "data": {
      "text/plain": [
       "853"
      ]
     },
     "execution_count": 14,
     "metadata": {},
     "output_type": "execute_result"
    }
   ],
   "source": [
    "len(df)"
   ]
  },
  {
   "cell_type": "code",
   "execution_count": 15,
   "id": "7f1af0c7",
   "metadata": {
    "execution": {
     "iopub.execute_input": "2022-01-09T13:36:22.753526Z",
     "iopub.status.busy": "2022-01-09T13:36:22.752912Z",
     "iopub.status.idle": "2022-01-09T13:36:22.755378Z",
     "shell.execute_reply": "2022-01-09T13:36:22.755850Z",
     "shell.execute_reply.started": "2022-01-09T13:34:53.385396Z"
    },
    "papermill": {
     "duration": 0.052617,
     "end_time": "2022-01-09T13:36:22.755982",
     "exception": false,
     "start_time": "2022-01-09T13:36:22.703365",
     "status": "completed"
    },
    "tags": []
   },
   "outputs": [
    {
     "data": {
      "text/plain": [
       "3000.0"
      ]
     },
     "execution_count": 15,
     "metadata": {},
     "output_type": "execute_result"
    }
   ],
   "source": [
    "df[\"ad_price\"].max()"
   ]
  },
  {
   "cell_type": "code",
   "execution_count": 16,
   "id": "b85493e7",
   "metadata": {
    "execution": {
     "iopub.execute_input": "2022-01-09T13:36:22.852003Z",
     "iopub.status.busy": "2022-01-09T13:36:22.851338Z",
     "iopub.status.idle": "2022-01-09T13:36:22.853974Z",
     "shell.execute_reply": "2022-01-09T13:36:22.854373Z",
     "shell.execute_reply.started": "2022-01-09T13:34:53.394648Z"
    },
    "papermill": {
     "duration": 0.053391,
     "end_time": "2022-01-09T13:36:22.854512",
     "exception": false,
     "start_time": "2022-01-09T13:36:22.801121",
     "status": "completed"
    },
    "tags": []
   },
   "outputs": [
    {
     "data": {
      "text/plain": [
       "150.0"
      ]
     },
     "execution_count": 16,
     "metadata": {},
     "output_type": "execute_result"
    }
   ],
   "source": [
    "df[\"ad_price\"].min()"
   ]
  },
  {
   "cell_type": "markdown",
   "id": "47f4635e",
   "metadata": {
    "papermill": {
     "duration": 0.048314,
     "end_time": "2022-01-09T13:36:23.902493",
     "exception": false,
     "start_time": "2022-01-09T13:36:23.854179",
     "status": "completed"
    },
    "tags": []
   },
   "source": [
    " In our dataset, we see that the lowest value of the price is \"0\" and the highest value is \"26590000\". I think $0 will not be a house and a value like 26590000 will not appeal to the potential buyer. So I decided to set a range to be greater than 20000 and less than 1500000."
   ]
  },
  {
   "cell_type": "code",
   "execution_count": 19,
   "id": "b97a63c3",
   "metadata": {
    "execution": {
     "iopub.execute_input": "2022-01-09T13:36:24.020241Z",
     "iopub.status.busy": "2022-01-09T13:36:24.019317Z",
     "iopub.status.idle": "2022-01-09T13:36:24.235195Z",
     "shell.execute_reply": "2022-01-09T13:36:24.234733Z",
     "shell.execute_reply.started": "2022-01-09T13:34:53.954086Z"
    },
    "papermill": {
     "duration": 0.285034,
     "end_time": "2022-01-09T13:36:24.235360",
     "exception": false,
     "start_time": "2022-01-09T13:36:23.950326",
     "status": "completed"
    },
    "tags": []
   },
   "outputs": [
    {
     "data": {
      "text/plain": [
       "(array([681.,   0.,   0., 165.,   0.,   0.,   2.,   0.,   0.,   5.]),\n",
       " array([1. , 1.3, 1.6, 1.9, 2.2, 2.5, 2.8, 3.1, 3.4, 3.7, 4. ]),\n",
       " <BarContainer object of 10 artists>)"
      ]
     },
     "execution_count": 19,
     "metadata": {},
     "output_type": "execute_result"
    },
    {
     "data": {
      "image/png": "[encoded data removed]",
      "text/plain": [
       "<Figure size 1440x720 with 1 Axes>"
      ]
     },
     "metadata": {
      "needs_background": "light"
     },
     "output_type": "display_data"
    }
   ],
   "source": [
    "plt.hist(df[\"bathrooms\"])"
   ]
  },
  {
   "cell_type": "code",
   "execution_count": 20,
   "id": "6092cb9e",
   "metadata": {
    "execution": {
     "iopub.execute_input": "2022-01-09T13:36:24.357294Z",
     "iopub.status.busy": "2022-01-09T13:36:24.352219Z",
     "iopub.status.idle": "2022-01-09T13:36:24.584608Z",
     "shell.execute_reply": "2022-01-09T13:36:24.585096Z",
     "shell.execute_reply.started": "2022-01-09T13:34:54.245624Z"
    },
    "papermill": {
     "duration": 0.299122,
     "end_time": "2022-01-09T13:36:24.585267",
     "exception": false,
     "start_time": "2022-01-09T13:36:24.286145",
     "status": "completed"
    },
    "tags": []
   },
   "outputs": [
    {
     "data": {
      "text/plain": [
       "(array([  9., 632., 167.,  10.,  17.,  12.,   2.,   1.,   1.,   2.]),\n",
       " array([-1.,  0.,  1.,  2.,  3.,  4.,  5.,  6.,  7.,  8.,  9.]),\n",
       " <BarContainer object of 10 artists>)"
      ]
     },
     "execution_count": 20,
     "metadata": {},
     "output_type": "execute_result"
    },
    {
     "data": {
      "image/png": "[encoded data removed]",
      "text/plain": [
       "<Figure size 1440x720 with 1 Axes>"
      ]
     },
     "metadata": {
      "needs_background": "light"
     },
     "output_type": "display_data"
    }
   ],
   "source": [
    "plt.hist(df[\"floor\"])"
   ]
  },
  {
   "cell_type": "code",
   "execution_count": 25,
   "id": "bd602255",
   "metadata": {},
   "outputs": [
    {
     "data": {
      "text/plain": [
       "(array([330., 479.,  33.,   6.,   2.,   1.,   0.,   0.,   1.,   1.]),\n",
       " array([ 11. ,  59.9, 108.8, 157.7, 206.6, 255.5, 304.4, 353.3, 402.2,\n",
       "        451.1, 500. ]),\n",
       " <BarContainer object of 10 artists>)"
      ]
     },
     "execution_count": 25,
     "metadata": {},
     "output_type": "execute_result"
    },
    {
     "data": {
      "image/png": "[encoded data removed]",
      "text/plain": [
       "<Figure size 1440x720 with 1 Axes>"
      ]
     },
     "metadata": {
      "needs_background": "light"
     },
     "output_type": "display_data"
    }
   ],
   "source": [
    "plt.hist(df[\"surface\"]) "
   ]
  },
  {
   "cell_type": "markdown",
   "id": "b249e221",
   "metadata": {
    "papermill": {
     "duration": 0.051803,
     "end_time": "2022-01-09T13:36:25.171713",
     "exception": false,
     "start_time": "2022-01-09T13:36:25.119910",
     "status": "completed"
    },
    "tags": []
   },
   "source": [
    "When we examine this histosgaram graph, I decide to create new categories. First, the category created as Basement gives information about whether there is a basement area or not. Secondly, the situation gives information about whether the houses are old or new in the range determined according to the year of construction. It was determined as \"new\" after \"old\" before 1990. Third, renewal_status informs about the renewal status of the houses as \"renewed\" or \"not renewed\"."
   ]
  },
  {
   "cell_type": "code",
   "execution_count": 30,
   "id": "c2245ecb",
   "metadata": {
    "execution": {
     "iopub.execute_input": "2022-01-09T13:36:25.291859Z",
     "iopub.status.busy": "2022-01-09T13:36:25.290702Z",
     "iopub.status.idle": "2022-01-09T13:36:25.292559Z",
     "shell.execute_reply": "2022-01-09T13:36:25.293036Z",
     "shell.execute_reply.started": "2022-01-09T13:34:54.883198Z"
    },
    "papermill": {
     "duration": 0.062639,
     "end_time": "2022-01-09T13:36:25.293205",
     "exception": false,
     "start_time": "2022-01-09T13:36:25.230566",
     "status": "completed"
    },
    "tags": []
   },
   "outputs": [],
   "source": [
    "#!pip install plotly"
   ]
  },
  {
   "cell_type": "code",
   "execution_count": 28,
   "id": "0580ff9f",
   "metadata": {
    "execution": {
     "iopub.execute_input": "2022-01-09T13:36:25.406700Z",
     "iopub.status.busy": "2022-01-09T13:36:25.405815Z",
     "iopub.status.idle": "2022-01-09T13:36:27.846299Z",
     "shell.execute_reply": "2022-01-09T13:36:27.845793Z",
     "shell.execute_reply.started": "2022-01-09T13:34:54.889778Z"
    },
    "papermill": {
     "duration": 2.499184,
     "end_time": "2022-01-09T13:36:27.846440",
     "exception": false,
     "start_time": "2022-01-09T13:36:25.347256",
     "status": "completed"
    },
    "tags": []
   },
   "outputs": [],
   "source": [
    "import plotly.express as px\n",
    "import plotly.graph_objects as go"
   ]
  },
  {
   "cell_type": "code",
   "execution_count": 27,
   "id": "7ec59343",
   "metadata": {
    "execution": {
     "iopub.execute_input": "2022-01-09T13:36:34.463060Z",
     "iopub.status.busy": "2022-01-09T13:36:34.462272Z",
     "iopub.status.idle": "2022-01-09T13:36:36.131941Z",
     "shell.execute_reply": "2022-01-09T13:36:36.132528Z",
     "shell.execute_reply.started": "2022-01-09T13:35:01.362019Z"
    },
    "papermill": {
     "duration": 1.743189,
     "end_time": "2022-01-09T13:36:36.132746",
     "exception": false,
     "start_time": "2022-01-09T13:36:34.389557",
     "status": "completed"
    },
    "tags": []
   },
   "outputs": [
    {
     "name": "stdout",
     "output_type": "stream",
     "text": [
      "There are 4 unique state\n",
      "\n",
      "\n",
      "Count of state\n",
      "\n",
      "\n",
      "utilizat          389\n",
      "nou               253\n",
      "renovat           209\n",
      "in constructie      2\n",
      "Name: state, dtype: int64\n"
     ]
    },
    {
     "data": {
      "image/png": "[encoded data removed]",
      "text/plain": [
       "<Figure size 1440x720 with 1 Axes>"
      ]
     },
     "metadata": {
      "needs_background": "light"
     },
     "output_type": "display_data"
    },
    {
     "name": "stdout",
     "output_type": "stream",
     "text": [
      "\n",
      "\n",
      "There are 136 unique zone\n",
      "\n",
      "\n",
      "Count of zone\n",
      "\n",
      "\n",
      "Gheorgheni          111\n",
      "Marasti              96\n",
      "Manastur             64\n",
      "Cluj-Napoca          62\n",
      "Zorilor              58\n",
      "Buna Ziua            52\n",
      "Centrul Vechi        38\n",
      "Intre Lacuri         33\n",
      "Plopilor             20\n",
      "Grigorescu           19\n",
      "Andrei Muresanu      19\n",
      "Dambul Rotund        17\n",
      "Gruia                16\n",
      "Bulgaria             11\n",
      "Colonia Borhanci     11\n",
      "Europa                8\n",
      "Iris                  7\n",
      "Onisifor Ghibu        5\n",
      "Calea Baciului        5\n",
      "Fantanele             5\n",
      "Name: zone, dtype: int64\n"
     ]
    },
    {
     "data": {
      "image/png": "[encoded data removed]",
      "text/plain": [
       "<Figure size 1440x720 with 1 Axes>"
      ]
     },
     "metadata": {
      "needs_background": "light"
     },
     "output_type": "display_data"
    },
    {
     "name": "stdout",
     "output_type": "stream",
     "text": [
      "\n",
      "\n"
     ]
    }
   ],
   "source": [
    "##plotting the categorical features\n",
    "cat_variable = df.dtypes==object\n",
    "cat_variable = df.columns[cat_variable].tolist()\n",
    "\n",
    "# Count of products per keys\n",
    "def bar_plot(data,feature):\n",
    "    print(f'There are {len(set(data[feature]))} unique {feature}')\n",
    "    print('\\n')\n",
    "    sns.countplot(x = feature,\n",
    "              data = data,\n",
    "              order = data[feature].value_counts(ascending=False)[0:20].index)\n",
    "    plt.xticks(rotation=90)\n",
    "    print(f'Count of {feature}')\n",
    "    print('\\n')\n",
    "    print(data[feature].value_counts(ascending=False)[0:20])\n",
    "    plt.show()\n",
    "    print('\\n')\n",
    "    \n",
    "for i in cat_variable:\n",
    "    bar_plot(df,i)"
   ]
  },
  {
   "cell_type": "markdown",
   "id": "4b246092",
   "metadata": {
    "papermill": {
     "duration": 0.073957,
     "end_time": "2022-01-09T13:36:36.442229",
     "exception": false,
     "start_time": "2022-01-09T13:36:36.368272",
     "status": "completed"
    },
    "tags": []
   },
   "source": [
    "45.1% of the homes in our dataset have 3 bedrooms. It is also possible to have 4 bedrooms, but houses with 5, 6, 8 bedrooms are rare."
   ]
  },
  {
   "cell_type": "markdown",
   "id": "f2ac565b",
   "metadata": {
    "papermill": {
     "duration": 0.072378,
     "end_time": "2022-01-09T13:36:36.587075",
     "exception": false,
     "start_time": "2022-01-09T13:36:36.514697",
     "status": "completed"
    },
    "tags": []
   },
   "source": [
    "# Converting Categorical Variables to Numeric Variables"
   ]
  },
  {
   "cell_type": "code",
   "execution_count": 38,
   "id": "b00cf12a",
   "metadata": {
    "execution": {
     "iopub.execute_input": "2022-01-09T13:36:36.738115Z",
     "iopub.status.busy": "2022-01-09T13:36:36.737317Z",
     "iopub.status.idle": "2022-01-09T13:36:36.739297Z",
     "shell.execute_reply": "2022-01-09T13:36:36.739677Z",
     "shell.execute_reply.started": "2022-01-09T13:35:03.251466Z"
    },
    "papermill": {
     "duration": 0.079514,
     "end_time": "2022-01-09T13:36:36.739821",
     "exception": false,
     "start_time": "2022-01-09T13:36:36.660307",
     "status": "completed"
    },
    "tags": []
   },
   "outputs": [],
   "source": [
    "cat_variable = df.dtypes==object\n",
    "cat_variable = df.columns[cat_variable].tolist()"
   ]
  },
  {
   "cell_type": "code",
   "execution_count": 39,
   "id": "3c4de58d",
   "metadata": {
    "execution": {
     "iopub.execute_input": "2022-01-09T13:36:36.892087Z",
     "iopub.status.busy": "2022-01-09T13:36:36.891159Z",
     "iopub.status.idle": "2022-01-09T13:36:36.910761Z",
     "shell.execute_reply": "2022-01-09T13:36:36.910289Z",
     "shell.execute_reply.started": "2022-01-09T13:35:03.257589Z"
    },
    "papermill": {
     "duration": 0.098353,
     "end_time": "2022-01-09T13:36:36.910881",
     "exception": false,
     "start_time": "2022-01-09T13:36:36.812528",
     "status": "completed"
    },
    "tags": []
   },
   "outputs": [],
   "source": [
    "from sklearn.preprocessing import LabelEncoder\n",
    "lb = LabelEncoder()\n",
    "df[cat_variable] = df[cat_variable].apply(lambda col: lb.fit_transform(col.astype(str)))"
   ]
  },
  {
   "cell_type": "code",
   "execution_count": 41,
   "id": "5c8773bd",
   "metadata": {
    "execution": {
     "iopub.execute_input": "2022-01-09T13:36:37.069865Z",
     "iopub.status.busy": "2022-01-09T13:36:37.063152Z",
     "iopub.status.idle": "2022-01-09T13:36:37.077875Z",
     "shell.execute_reply": "2022-01-09T13:36:37.078286Z",
     "shell.execute_reply.started": "2022-01-09T13:35:03.286254Z"
    },
    "papermill": {
     "duration": 0.094606,
     "end_time": "2022-01-09T13:36:37.078423",
     "exception": false,
     "start_time": "2022-01-09T13:36:36.983817",
     "status": "completed"
    },
    "tags": []
   },
   "outputs": [
    {
     "data": {
      "text/html": [
       "<div>\n",
       "<style scoped>\n",
       "    .dataframe tbody tr th:only-of-type {\n",
       "        vertical-align: middle;\n",
       "    }\n",
       "\n",
       "    .dataframe tbody tr th {\n",
       "        vertical-align: top;\n",
       "    }\n",
       "\n",
       "    .dataframe thead th {\n",
       "        text-align: right;\n",
       "    }\n",
       "</style>\n",
       "<table border=\"1\" class=\"dataframe\">\n",
       "  <thead>\n",
       "    <tr style=\"text-align: right;\">\n",
       "      <th></th>\n",
       "      <th>level_0</th>\n",
       "      <th>index</th>\n",
       "      <th>price</th>\n",
       "      <th>bedrooms</th>\n",
       "      <th>bathrooms</th>\n",
       "      <th>sqft_living</th>\n",
       "      <th>sqft_lot</th>\n",
       "      <th>floors</th>\n",
       "      <th>waterfront</th>\n",
       "      <th>view</th>\n",
       "      <th>...</th>\n",
       "      <th>street</th>\n",
       "      <th>city</th>\n",
       "      <th>statezip</th>\n",
       "      <th>country</th>\n",
       "      <th>day</th>\n",
       "      <th>month</th>\n",
       "      <th>year</th>\n",
       "      <th>basement</th>\n",
       "      <th>situation</th>\n",
       "      <th>renewal_status</th>\n",
       "    </tr>\n",
       "  </thead>\n",
       "  <tbody>\n",
       "    <tr>\n",
       "      <th>0</th>\n",
       "      <td>0</td>\n",
       "      <td>0</td>\n",
       "      <td>313000</td>\n",
       "      <td>3</td>\n",
       "      <td>1</td>\n",
       "      <td>1340</td>\n",
       "      <td>7912</td>\n",
       "      <td>1</td>\n",
       "      <td>0</td>\n",
       "      <td>0</td>\n",
       "      <td>...</td>\n",
       "      <td>18810 Densmore Ave N</td>\n",
       "      <td>Shoreline</td>\n",
       "      <td>WA 98133</td>\n",
       "      <td>USA</td>\n",
       "      <td>2</td>\n",
       "      <td>5</td>\n",
       "      <td>2014</td>\n",
       "      <td>No</td>\n",
       "      <td>Former</td>\n",
       "      <td>Renewed</td>\n",
       "    </tr>\n",
       "    <tr>\n",
       "      <th>1</th>\n",
       "      <td>2</td>\n",
       "      <td>2</td>\n",
       "      <td>342000</td>\n",
       "      <td>3</td>\n",
       "      <td>2</td>\n",
       "      <td>1930</td>\n",
       "      <td>11947</td>\n",
       "      <td>1</td>\n",
       "      <td>0</td>\n",
       "      <td>0</td>\n",
       "      <td>...</td>\n",
       "      <td>26206-26214 143rd Ave SE</td>\n",
       "      <td>Kent</td>\n",
       "      <td>WA 98042</td>\n",
       "      <td>USA</td>\n",
       "      <td>2</td>\n",
       "      <td>5</td>\n",
       "      <td>2014</td>\n",
       "      <td>No</td>\n",
       "      <td>Former</td>\n",
       "      <td>Not_renewed</td>\n",
       "    </tr>\n",
       "    <tr>\n",
       "      <th>2</th>\n",
       "      <td>3</td>\n",
       "      <td>3</td>\n",
       "      <td>420000</td>\n",
       "      <td>3</td>\n",
       "      <td>2</td>\n",
       "      <td>2000</td>\n",
       "      <td>8030</td>\n",
       "      <td>1</td>\n",
       "      <td>0</td>\n",
       "      <td>0</td>\n",
       "      <td>...</td>\n",
       "      <td>857 170th Pl NE</td>\n",
       "      <td>Bellevue</td>\n",
       "      <td>WA 98008</td>\n",
       "      <td>USA</td>\n",
       "      <td>2</td>\n",
       "      <td>5</td>\n",
       "      <td>2014</td>\n",
       "      <td>Yes</td>\n",
       "      <td>Former</td>\n",
       "      <td>Not_renewed</td>\n",
       "    </tr>\n",
       "    <tr>\n",
       "      <th>3</th>\n",
       "      <td>4</td>\n",
       "      <td>4</td>\n",
       "      <td>550000</td>\n",
       "      <td>4</td>\n",
       "      <td>2</td>\n",
       "      <td>1940</td>\n",
       "      <td>10500</td>\n",
       "      <td>1</td>\n",
       "      <td>0</td>\n",
       "      <td>0</td>\n",
       "      <td>...</td>\n",
       "      <td>9105 170th Ave NE</td>\n",
       "      <td>Redmond</td>\n",
       "      <td>WA 98052</td>\n",
       "      <td>USA</td>\n",
       "      <td>2</td>\n",
       "      <td>5</td>\n",
       "      <td>2014</td>\n",
       "      <td>Yes</td>\n",
       "      <td>Former</td>\n",
       "      <td>Renewed</td>\n",
       "    </tr>\n",
       "    <tr>\n",
       "      <th>4</th>\n",
       "      <td>5</td>\n",
       "      <td>5</td>\n",
       "      <td>490000</td>\n",
       "      <td>2</td>\n",
       "      <td>1</td>\n",
       "      <td>880</td>\n",
       "      <td>6380</td>\n",
       "      <td>1</td>\n",
       "      <td>0</td>\n",
       "      <td>0</td>\n",
       "      <td>...</td>\n",
       "      <td>522 NE 88th St</td>\n",
       "      <td>Seattle</td>\n",
       "      <td>WA 98115</td>\n",
       "      <td>USA</td>\n",
       "      <td>2</td>\n",
       "      <td>5</td>\n",
       "      <td>2014</td>\n",
       "      <td>No</td>\n",
       "      <td>Former</td>\n",
       "      <td>Renewed</td>\n",
       "    </tr>\n",
       "  </tbody>\n",
       "</table>\n",
       "<p>5 rows × 25 columns</p>\n",
       "</div>"
      ],
      "text/plain": [
       "   level_0  index   price  bedrooms  bathrooms  sqft_living  sqft_lot  floors  \\\n",
       "0        0      0  313000         3          1         1340      7912       1   \n",
       "1        2      2  342000         3          2         1930     11947       1   \n",
       "2        3      3  420000         3          2         2000      8030       1   \n",
       "3        4      4  550000         4          2         1940     10500       1   \n",
       "4        5      5  490000         2          1          880      6380       1   \n",
       "\n",
       "   waterfront  view  ...                    street       city  statezip  \\\n",
       "0           0     0  ...      18810 Densmore Ave N  Shoreline  WA 98133   \n",
       "1           0     0  ...  26206-26214 143rd Ave SE       Kent  WA 98042   \n",
       "2           0     0  ...           857 170th Pl NE   Bellevue  WA 98008   \n",
       "3           0     0  ...         9105 170th Ave NE    Redmond  WA 98052   \n",
       "4           0     0  ...            522 NE 88th St    Seattle  WA 98115   \n",
       "\n",
       "   country  day month  year basement situation  renewal_status  \n",
       "0      USA    2     5  2014       No    Former         Renewed  \n",
       "1      USA    2     5  2014       No    Former     Not_renewed  \n",
       "2      USA    2     5  2014      Yes    Former     Not_renewed  \n",
       "3      USA    2     5  2014      Yes    Former         Renewed  \n",
       "4      USA    2     5  2014       No    Former         Renewed  \n",
       "\n",
       "[5 rows x 25 columns]"
      ]
     },
     "execution_count": 41,
     "metadata": {},
     "output_type": "execute_result"
    }
   ],
   "source": [
    "df.head()"
   ]
  },
  {
   "cell_type": "markdown",
   "id": "e567be68",
   "metadata": {
    "papermill": {
     "duration": 0.082013,
     "end_time": "2022-01-09T13:36:37.233656",
     "exception": false,
     "start_time": "2022-01-09T13:36:37.151643",
     "status": "completed"
    },
    "tags": []
   },
   "source": [
    "# Getting Rid of Outliers"
   ]
  },
  {
   "cell_type": "code",
   "execution_count": 40,
   "id": "3bc8e303",
   "metadata": {
    "execution": {
     "iopub.execute_input": "2022-01-09T13:36:37.392482Z",
     "iopub.status.busy": "2022-01-09T13:36:37.391537Z",
     "iopub.status.idle": "2022-01-09T13:36:37.402526Z",
     "shell.execute_reply": "2022-01-09T13:36:37.402034Z",
     "shell.execute_reply.started": "2022-01-09T13:35:03.306178Z"
    },
    "papermill": {
     "duration": 0.093745,
     "end_time": "2022-01-09T13:36:37.402674",
     "exception": false,
     "start_time": "2022-01-09T13:36:37.308929",
     "status": "completed"
    },
    "tags": []
   },
   "outputs": [
    {
     "name": "stdout",
     "output_type": "stream",
     "text": [
      "level_0             2275.25\n",
      "index               2275.25\n",
      "price             314412.50\n",
      "bedrooms               1.00\n",
      "bathrooms              1.00\n",
      "sqft_living         1100.00\n",
      "sqft_lot            5778.25\n",
      "floors                 1.00\n",
      "waterfront             0.00\n",
      "view                   0.00\n",
      "condition              1.00\n",
      "sqft_above          1060.00\n",
      "sqft_basement        590.00\n",
      "yr_built              46.00\n",
      "yr_renovated        1999.00\n",
      "street              2184.50\n",
      "city                  18.00\n",
      "statezip              34.00\n",
      "country                0.00\n",
      "day                   16.00\n",
      "month                  1.00\n",
      "year                   0.00\n",
      "basement               1.00\n",
      "situation              1.00\n",
      "renewal_status         1.00\n",
      "dtype: float64\n"
     ]
    }
   ],
   "source": [
    "Q1 = df.quantile(0.25)\n",
    "Q3 = df.quantile(0.75)\n",
    "IQR = Q3 - Q1\n",
    "print(IQR)"
   ]
  },
  {
   "cell_type": "code",
   "execution_count": 41,
   "id": "754c2683",
   "metadata": {
    "execution": {
     "iopub.execute_input": "2022-01-09T13:36:37.565694Z",
     "iopub.status.busy": "2022-01-09T13:36:37.565124Z",
     "iopub.status.idle": "2022-01-09T13:36:37.573853Z",
     "shell.execute_reply": "2022-01-09T13:36:37.573342Z",
     "shell.execute_reply.started": "2022-01-09T13:35:03.321928Z"
    },
    "papermill": {
     "duration": 0.092642,
     "end_time": "2022-01-09T13:36:37.573995",
     "exception": false,
     "start_time": "2022-01-09T13:36:37.481353",
     "status": "completed"
    },
    "tags": []
   },
   "outputs": [],
   "source": [
    "df =df[~((df < (Q1 - 1.5 * IQR)) |(df > (Q3 + 1.5 * IQR))).any(axis=1)]\n",
    "df.dropna(inplace=True)"
   ]
  },
  {
   "cell_type": "code",
   "execution_count": 42,
   "id": "5fed3326",
   "metadata": {
    "execution": {
     "iopub.execute_input": "2022-01-09T13:36:37.730017Z",
     "iopub.status.busy": "2022-01-09T13:36:37.729203Z",
     "iopub.status.idle": "2022-01-09T13:36:37.745445Z",
     "shell.execute_reply": "2022-01-09T13:36:37.745010Z",
     "shell.execute_reply.started": "2022-01-09T13:35:03.339379Z"
    },
    "papermill": {
     "duration": 0.095293,
     "end_time": "2022-01-09T13:36:37.745556",
     "exception": false,
     "start_time": "2022-01-09T13:36:37.650263",
     "status": "completed"
    },
    "tags": []
   },
   "outputs": [
    {
     "data": {
      "text/html": [
       "<div>\n",
       "<style scoped>\n",
       "    .dataframe tbody tr th:only-of-type {\n",
       "        vertical-align: middle;\n",
       "    }\n",
       "\n",
       "    .dataframe tbody tr th {\n",
       "        vertical-align: top;\n",
       "    }\n",
       "\n",
       "    .dataframe thead th {\n",
       "        text-align: right;\n",
       "    }\n",
       "</style>\n",
       "<table border=\"1\" class=\"dataframe\">\n",
       "  <thead>\n",
       "    <tr style=\"text-align: right;\">\n",
       "      <th></th>\n",
       "      <th>level_0</th>\n",
       "      <th>index</th>\n",
       "      <th>price</th>\n",
       "      <th>bedrooms</th>\n",
       "      <th>bathrooms</th>\n",
       "      <th>sqft_living</th>\n",
       "      <th>sqft_lot</th>\n",
       "      <th>floors</th>\n",
       "      <th>waterfront</th>\n",
       "      <th>view</th>\n",
       "      <th>...</th>\n",
       "      <th>street</th>\n",
       "      <th>city</th>\n",
       "      <th>statezip</th>\n",
       "      <th>country</th>\n",
       "      <th>day</th>\n",
       "      <th>month</th>\n",
       "      <th>year</th>\n",
       "      <th>basement</th>\n",
       "      <th>situation</th>\n",
       "      <th>renewal_status</th>\n",
       "    </tr>\n",
       "  </thead>\n",
       "  <tbody>\n",
       "    <tr>\n",
       "      <th>0</th>\n",
       "      <td>0</td>\n",
       "      <td>0</td>\n",
       "      <td>313000</td>\n",
       "      <td>3</td>\n",
       "      <td>1</td>\n",
       "      <td>1340</td>\n",
       "      <td>7912</td>\n",
       "      <td>1</td>\n",
       "      <td>0</td>\n",
       "      <td>0</td>\n",
       "      <td>...</td>\n",
       "      <td>1470</td>\n",
       "      <td>36</td>\n",
       "      <td>62</td>\n",
       "      <td>0</td>\n",
       "      <td>2</td>\n",
       "      <td>5</td>\n",
       "      <td>2014</td>\n",
       "      <td>0</td>\n",
       "      <td>0</td>\n",
       "      <td>1</td>\n",
       "    </tr>\n",
       "    <tr>\n",
       "      <th>1</th>\n",
       "      <td>2</td>\n",
       "      <td>2</td>\n",
       "      <td>342000</td>\n",
       "      <td>3</td>\n",
       "      <td>2</td>\n",
       "      <td>1930</td>\n",
       "      <td>11947</td>\n",
       "      <td>1</td>\n",
       "      <td>0</td>\n",
       "      <td>0</td>\n",
       "      <td>...</td>\n",
       "      <td>2221</td>\n",
       "      <td>18</td>\n",
       "      <td>26</td>\n",
       "      <td>0</td>\n",
       "      <td>2</td>\n",
       "      <td>5</td>\n",
       "      <td>2014</td>\n",
       "      <td>0</td>\n",
       "      <td>0</td>\n",
       "      <td>0</td>\n",
       "    </tr>\n",
       "    <tr>\n",
       "      <th>2</th>\n",
       "      <td>3</td>\n",
       "      <td>3</td>\n",
       "      <td>420000</td>\n",
       "      <td>3</td>\n",
       "      <td>2</td>\n",
       "      <td>2000</td>\n",
       "      <td>8030</td>\n",
       "      <td>1</td>\n",
       "      <td>0</td>\n",
       "      <td>0</td>\n",
       "      <td>...</td>\n",
       "      <td>4111</td>\n",
       "      <td>3</td>\n",
       "      <td>7</td>\n",
       "      <td>0</td>\n",
       "      <td>2</td>\n",
       "      <td>5</td>\n",
       "      <td>2014</td>\n",
       "      <td>1</td>\n",
       "      <td>0</td>\n",
       "      <td>0</td>\n",
       "    </tr>\n",
       "    <tr>\n",
       "      <th>3</th>\n",
       "      <td>4</td>\n",
       "      <td>4</td>\n",
       "      <td>550000</td>\n",
       "      <td>4</td>\n",
       "      <td>2</td>\n",
       "      <td>1940</td>\n",
       "      <td>10500</td>\n",
       "      <td>1</td>\n",
       "      <td>0</td>\n",
       "      <td>0</td>\n",
       "      <td>...</td>\n",
       "      <td>4198</td>\n",
       "      <td>31</td>\n",
       "      <td>31</td>\n",
       "      <td>0</td>\n",
       "      <td>2</td>\n",
       "      <td>5</td>\n",
       "      <td>2014</td>\n",
       "      <td>1</td>\n",
       "      <td>0</td>\n",
       "      <td>1</td>\n",
       "    </tr>\n",
       "    <tr>\n",
       "      <th>4</th>\n",
       "      <td>5</td>\n",
       "      <td>5</td>\n",
       "      <td>490000</td>\n",
       "      <td>2</td>\n",
       "      <td>1</td>\n",
       "      <td>880</td>\n",
       "      <td>6380</td>\n",
       "      <td>1</td>\n",
       "      <td>0</td>\n",
       "      <td>0</td>\n",
       "      <td>...</td>\n",
       "      <td>3394</td>\n",
       "      <td>35</td>\n",
       "      <td>54</td>\n",
       "      <td>0</td>\n",
       "      <td>2</td>\n",
       "      <td>5</td>\n",
       "      <td>2014</td>\n",
       "      <td>0</td>\n",
       "      <td>0</td>\n",
       "      <td>1</td>\n",
       "    </tr>\n",
       "    <tr>\n",
       "      <th>...</th>\n",
       "      <td>...</td>\n",
       "      <td>...</td>\n",
       "      <td>...</td>\n",
       "      <td>...</td>\n",
       "      <td>...</td>\n",
       "      <td>...</td>\n",
       "      <td>...</td>\n",
       "      <td>...</td>\n",
       "      <td>...</td>\n",
       "      <td>...</td>\n",
       "      <td>...</td>\n",
       "      <td>...</td>\n",
       "      <td>...</td>\n",
       "      <td>...</td>\n",
       "      <td>...</td>\n",
       "      <td>...</td>\n",
       "      <td>...</td>\n",
       "      <td>...</td>\n",
       "      <td>...</td>\n",
       "      <td>...</td>\n",
       "      <td>...</td>\n",
       "    </tr>\n",
       "    <tr>\n",
       "      <th>4429</th>\n",
       "      <td>4545</td>\n",
       "      <td>4595</td>\n",
       "      <td>308166</td>\n",
       "      <td>3</td>\n",
       "      <td>1</td>\n",
       "      <td>1510</td>\n",
       "      <td>6360</td>\n",
       "      <td>1</td>\n",
       "      <td>0</td>\n",
       "      <td>0</td>\n",
       "      <td>...</td>\n",
       "      <td>3324</td>\n",
       "      <td>35</td>\n",
       "      <td>62</td>\n",
       "      <td>0</td>\n",
       "      <td>9</td>\n",
       "      <td>7</td>\n",
       "      <td>2014</td>\n",
       "      <td>0</td>\n",
       "      <td>0</td>\n",
       "      <td>1</td>\n",
       "    </tr>\n",
       "    <tr>\n",
       "      <th>4430</th>\n",
       "      <td>4546</td>\n",
       "      <td>4596</td>\n",
       "      <td>534333</td>\n",
       "      <td>3</td>\n",
       "      <td>2</td>\n",
       "      <td>1460</td>\n",
       "      <td>7573</td>\n",
       "      <td>2</td>\n",
       "      <td>0</td>\n",
       "      <td>0</td>\n",
       "      <td>...</td>\n",
       "      <td>923</td>\n",
       "      <td>3</td>\n",
       "      <td>6</td>\n",
       "      <td>0</td>\n",
       "      <td>9</td>\n",
       "      <td>7</td>\n",
       "      <td>2014</td>\n",
       "      <td>0</td>\n",
       "      <td>0</td>\n",
       "      <td>1</td>\n",
       "    </tr>\n",
       "    <tr>\n",
       "      <th>4431</th>\n",
       "      <td>4547</td>\n",
       "      <td>4597</td>\n",
       "      <td>416904</td>\n",
       "      <td>3</td>\n",
       "      <td>2</td>\n",
       "      <td>3010</td>\n",
       "      <td>7014</td>\n",
       "      <td>2</td>\n",
       "      <td>0</td>\n",
       "      <td>0</td>\n",
       "      <td>...</td>\n",
       "      <td>3890</td>\n",
       "      <td>32</td>\n",
       "      <td>37</td>\n",
       "      <td>0</td>\n",
       "      <td>9</td>\n",
       "      <td>7</td>\n",
       "      <td>2014</td>\n",
       "      <td>0</td>\n",
       "      <td>1</td>\n",
       "      <td>0</td>\n",
       "    </tr>\n",
       "    <tr>\n",
       "      <th>4432</th>\n",
       "      <td>4548</td>\n",
       "      <td>4598</td>\n",
       "      <td>203400</td>\n",
       "      <td>4</td>\n",
       "      <td>2</td>\n",
       "      <td>2090</td>\n",
       "      <td>6630</td>\n",
       "      <td>1</td>\n",
       "      <td>0</td>\n",
       "      <td>0</td>\n",
       "      <td>...</td>\n",
       "      <td>3372</td>\n",
       "      <td>35</td>\n",
       "      <td>71</td>\n",
       "      <td>0</td>\n",
       "      <td>10</td>\n",
       "      <td>7</td>\n",
       "      <td>2014</td>\n",
       "      <td>1</td>\n",
       "      <td>0</td>\n",
       "      <td>0</td>\n",
       "    </tr>\n",
       "    <tr>\n",
       "      <th>4433</th>\n",
       "      <td>4549</td>\n",
       "      <td>4599</td>\n",
       "      <td>220600</td>\n",
       "      <td>3</td>\n",
       "      <td>2</td>\n",
       "      <td>1490</td>\n",
       "      <td>8102</td>\n",
       "      <td>2</td>\n",
       "      <td>0</td>\n",
       "      <td>0</td>\n",
       "      <td>...</td>\n",
       "      <td>1462</td>\n",
       "      <td>9</td>\n",
       "      <td>26</td>\n",
       "      <td>0</td>\n",
       "      <td>10</td>\n",
       "      <td>7</td>\n",
       "      <td>2014</td>\n",
       "      <td>0</td>\n",
       "      <td>0</td>\n",
       "      <td>0</td>\n",
       "    </tr>\n",
       "  </tbody>\n",
       "</table>\n",
       "<p>3406 rows × 25 columns</p>\n",
       "</div>"
      ],
      "text/plain": [
       "      level_0  index   price  bedrooms  bathrooms  sqft_living  sqft_lot  \\\n",
       "0           0      0  313000         3          1         1340      7912   \n",
       "1           2      2  342000         3          2         1930     11947   \n",
       "2           3      3  420000         3          2         2000      8030   \n",
       "3           4      4  550000         4          2         1940     10500   \n",
       "4           5      5  490000         2          1          880      6380   \n",
       "...       ...    ...     ...       ...        ...          ...       ...   \n",
       "4429     4545   4595  308166         3          1         1510      6360   \n",
       "4430     4546   4596  534333         3          2         1460      7573   \n",
       "4431     4547   4597  416904         3          2         3010      7014   \n",
       "4432     4548   4598  203400         4          2         2090      6630   \n",
       "4433     4549   4599  220600         3          2         1490      8102   \n",
       "\n",
       "      floors  waterfront  view  ...  street  city  statezip  country  day  \\\n",
       "0          1           0     0  ...    1470    36        62        0    2   \n",
       "1          1           0     0  ...    2221    18        26        0    2   \n",
       "2          1           0     0  ...    4111     3         7        0    2   \n",
       "3          1           0     0  ...    4198    31        31        0    2   \n",
       "4          1           0     0  ...    3394    35        54        0    2   \n",
       "...      ...         ...   ...  ...     ...   ...       ...      ...  ...   \n",
       "4429       1           0     0  ...    3324    35        62        0    9   \n",
       "4430       2           0     0  ...     923     3         6        0    9   \n",
       "4431       2           0     0  ...    3890    32        37        0    9   \n",
       "4432       1           0     0  ...    3372    35        71        0   10   \n",
       "4433       2           0     0  ...    1462     9        26        0   10   \n",
       "\n",
       "      month  year  basement  situation  renewal_status  \n",
       "0         5  2014         0          0               1  \n",
       "1         5  2014         0          0               0  \n",
       "2         5  2014         1          0               0  \n",
       "3         5  2014         1          0               1  \n",
       "4         5  2014         0          0               1  \n",
       "...     ...   ...       ...        ...             ...  \n",
       "4429      7  2014         0          0               1  \n",
       "4430      7  2014         0          0               1  \n",
       "4431      7  2014         0          1               0  \n",
       "4432      7  2014         1          0               0  \n",
       "4433      7  2014         0          0               0  \n",
       "\n",
       "[3406 rows x 25 columns]"
      ]
     },
     "execution_count": 42,
     "metadata": {},
     "output_type": "execute_result"
    }
   ],
   "source": [
    "df"
   ]
  },
  {
   "cell_type": "code",
   "execution_count": 43,
   "id": "f5fff5ea",
   "metadata": {
    "execution": {
     "iopub.execute_input": "2022-01-09T13:36:37.913886Z",
     "iopub.status.busy": "2022-01-09T13:36:37.912160Z",
     "iopub.status.idle": "2022-01-09T13:36:37.916750Z",
     "shell.execute_reply": "2022-01-09T13:36:37.916095Z",
     "shell.execute_reply.started": "2022-01-09T13:35:03.363115Z"
    },
    "papermill": {
     "duration": 0.095308,
     "end_time": "2022-01-09T13:36:37.916906",
     "exception": false,
     "start_time": "2022-01-09T13:36:37.821598",
     "status": "completed"
    },
    "tags": []
   },
   "outputs": [
    {
     "name": "stdout",
     "output_type": "stream",
     "text": [
      "<class 'pandas.core.frame.DataFrame'>\n",
      "Int64Index: 3406 entries, 0 to 4433\n",
      "Data columns (total 25 columns):\n",
      " #   Column          Non-Null Count  Dtype\n",
      "---  ------          --------------  -----\n",
      " 0   level_0         3406 non-null   int64\n",
      " 1   index           3406 non-null   int64\n",
      " 2   price           3406 non-null   int64\n",
      " 3   bedrooms        3406 non-null   int64\n",
      " 4   bathrooms       3406 non-null   int64\n",
      " 5   sqft_living     3406 non-null   int64\n",
      " 6   sqft_lot        3406 non-null   int64\n",
      " 7   floors          3406 non-null   int64\n",
      " 8   waterfront      3406 non-null   int64\n",
      " 9   view            3406 non-null   int64\n",
      " 10  condition       3406 non-null   int64\n",
      " 11  sqft_above      3406 non-null   int64\n",
      " 12  sqft_basement   3406 non-null   int64\n",
      " 13  yr_built        3406 non-null   int64\n",
      " 14  yr_renovated    3406 non-null   int64\n",
      " 15  street          3406 non-null   int64\n",
      " 16  city            3406 non-null   int64\n",
      " 17  statezip        3406 non-null   int64\n",
      " 18  country         3406 non-null   int64\n",
      " 19  day             3406 non-null   int64\n",
      " 20  month           3406 non-null   int64\n",
      " 21  year            3406 non-null   int64\n",
      " 22  basement        3406 non-null   int64\n",
      " 23  situation       3406 non-null   int64\n",
      " 24  renewal_status  3406 non-null   int64\n",
      "dtypes: int64(25)\n",
      "memory usage: 691.8 KB\n"
     ]
    }
   ],
   "source": [
    "df.info()"
   ]
  },
  {
   "cell_type": "code",
   "execution_count": 28,
   "id": "9d07b783",
   "metadata": {
    "execution": {
     "iopub.execute_input": "2022-01-09T13:36:38.074087Z",
     "iopub.status.busy": "2022-01-09T13:36:38.073382Z",
     "iopub.status.idle": "2022-01-09T13:36:40.579288Z",
     "shell.execute_reply": "2022-01-09T13:36:40.579713Z",
     "shell.execute_reply.started": "2022-01-09T13:35:03.378179Z"
    },
    "papermill": {
     "duration": 2.587086,
     "end_time": "2022-01-09T13:36:40.579865",
     "exception": false,
     "start_time": "2022-01-09T13:36:37.992779",
     "status": "completed"
    },
    "tags": []
   },
   "outputs": [
    {
     "data": {
      "text/plain": [
       "<AxesSubplot:>"
      ]
     },
     "execution_count": 28,
     "metadata": {},
     "output_type": "execute_result"
    },
    {
     "data": {
      "image/png": "[encoded data removed]",
      "text/plain": [
       "<Figure size 1440x864 with 2 Axes>"
      ]
     },
     "metadata": {
      "needs_background": "light"
     },
     "output_type": "display_data"
    }
   ],
   "source": [
    "plt.figure(figsize=(20,12))\n",
    "sns.heatmap(df.corr(),annot=True)"
   ]
  },
  {
   "cell_type": "markdown",
   "id": "efb0cbd3",
   "metadata": {
    "papermill": {
     "duration": 0.086565,
     "end_time": "2022-01-09T13:36:52.182151",
     "exception": false,
     "start_time": "2022-01-09T13:36:52.095586",
     "status": "completed"
    },
    "tags": []
   },
   "source": [
    "The model works best with LightGBM."
   ]
  }
 ],
 "metadata": {
  "interpreter": {
   "hash": "31f2aee4e71d21fbe5cf8b01ff0e069b9275f58929596ceb00d14d90e3e16cd6"
  },
  "kernelspec": {
   "display_name": "Python 3.8.10 64-bit",
   "language": "python",
   "name": "python3"
  },
  "language_info": {
   "codemirror_mode": {
    "name": "ipython",
    "version": 3
   },
   "file_extension": ".py",
   "mimetype": "text/x-python",
   "name": "python",
   "nbconvert_exporter": "python",
   "pygments_lexer": "ipython3",
   "version": "3.8.10"
  },
  "papermill": {
   "default_parameters": {},
   "duration": 45.246542,
   "end_time": "2022-01-09T13:36:54.906904",
   "environment_variables": {},
   "exception": null,
   "input_path": "__notebook__.ipynb",
   "output_path": "__notebook__.ipynb",
   "parameters": {},
   "start_time": "2022-01-09T13:36:09.660362",
   "version": "2.3.3"
  }
 },
 "nbformat": 4,
 "nbformat_minor": 5
}
