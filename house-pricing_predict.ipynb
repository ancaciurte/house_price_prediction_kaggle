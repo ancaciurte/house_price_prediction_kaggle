{
 "cells": [
  {
   "cell_type": "markdown",
   "id": "d90b81c6",
   "metadata": {
    "papermill": {
     "duration": 0.04193,
     "end_time": "2022-01-09T13:36:17.874754",
     "exception": false,
     "start_time": "2022-01-09T13:36:17.832824",
     "status": "completed"
    },
    "tags": []
   },
   "source": [
    "# Load the data"
   ]
  },
  {
   "cell_type": "code",
   "execution_count": 2,
   "id": "205008c3",
   "metadata": {
    "execution": {
     "iopub.execute_input": "2022-01-09T13:36:17.971323Z",
     "iopub.status.busy": "2022-01-09T13:36:17.970547Z",
     "iopub.status.idle": "2022-01-09T13:36:17.982300Z",
     "shell.execute_reply": "2022-01-09T13:36:17.982745Z",
     "shell.execute_reply.started": "2022-01-09T13:34:51.265888Z"
    },
    "papermill": {
     "duration": 0.065604,
     "end_time": "2022-01-09T13:36:17.982974",
     "exception": false,
     "start_time": "2022-01-09T13:36:17.917370",
     "status": "completed"
    },
    "tags": []
   },
   "outputs": [
    {
     "name": "stdout",
     "output_type": "stream",
     "text": [
      "Dataset/offers_cluj-napoca_2022-03-25.csv\n"
     ]
    }
   ],
   "source": [
    "import numpy as np # linear algebra\n",
    "import pandas as pd # data processing, CSV file I/O (e.g. pd.read_csv)\n",
    "\n",
    "dirpath = 'Dataset/'\n",
    "import os\n",
    "for dirname, _, filenames in os.walk(dirpath):\n",
    "    for filename in filenames:\n",
    "        print(os.path.join(dirname, filename))\n"
   ]
  },
  {
   "cell_type": "code",
   "execution_count": 3,
   "id": "16d0c5c1",
   "metadata": {
    "execution": {
     "iopub.execute_input": "2022-01-09T13:36:18.070870Z",
     "iopub.status.busy": "2022-01-09T13:36:18.070255Z",
     "iopub.status.idle": "2022-01-09T13:36:18.901417Z",
     "shell.execute_reply": "2022-01-09T13:36:18.901831Z",
     "shell.execute_reply.started": "2022-01-09T13:34:51.276761Z"
    },
    "papermill": {
     "duration": 0.877245,
     "end_time": "2022-01-09T13:36:18.901991",
     "exception": false,
     "start_time": "2022-01-09T13:36:18.024746",
     "status": "completed"
    },
    "tags": []
   },
   "outputs": [],
   "source": [
    "## import libraries\n",
    "\n",
    "import pandas as pd\n",
    "import numpy as np\n",
    "import pickle5 as pickle\n",
    "import datetime as dt\n",
    "from time import time\n",
    "from sklearn.preprocessing import LabelEncoder"
   ]
  },
  {
   "cell_type": "code",
   "execution_count": 8,
   "id": "6c7211c4",
   "metadata": {
    "execution": {
     "iopub.execute_input": "2022-01-09T13:36:18.988074Z",
     "iopub.status.busy": "2022-01-09T13:36:18.987405Z",
     "iopub.status.idle": "2022-01-09T13:36:19.020458Z",
     "shell.execute_reply": "2022-01-09T13:36:19.019973Z",
     "shell.execute_reply.started": "2022-01-09T13:34:51.291399Z"
    },
    "papermill": {
     "duration": 0.078103,
     "end_time": "2022-01-09T13:36:19.020577",
     "exception": false,
     "start_time": "2022-01-09T13:36:18.942474",
     "status": "completed"
    },
    "tags": []
   },
   "outputs": [
    {
     "data": {
      "text/plain": [
       "bathrooms          1\n",
       "floor            0.5\n",
       "rooms              2\n",
       "surface           82\n",
       "state            nou\n",
       "zone         Marasti\n",
       "ad_price         750\n",
       "Name: 0, dtype: object"
      ]
     },
     "execution_count": 8,
     "metadata": {},
     "output_type": "execute_result"
    }
   ],
   "source": [
    "df = pd.read_csv(dirpath+\"/offers_cluj-napoca_2022-03-25.csv\")  # Reading dataset\n",
    "df.iloc[0]"
   ]
  },
  {
   "cell_type": "code",
   "execution_count": 9,
   "id": "faca66be",
   "metadata": {},
   "outputs": [
    {
     "data": {
      "text/html": [
       "<div>\n",
       "<style scoped>\n",
       "    .dataframe tbody tr th:only-of-type {\n",
       "        vertical-align: middle;\n",
       "    }\n",
       "\n",
       "    .dataframe tbody tr th {\n",
       "        vertical-align: top;\n",
       "    }\n",
       "\n",
       "    .dataframe thead th {\n",
       "        text-align: right;\n",
       "    }\n",
       "</style>\n",
       "<table border=\"1\" class=\"dataframe\">\n",
       "  <thead>\n",
       "    <tr style=\"text-align: right;\">\n",
       "      <th></th>\n",
       "      <th>bathrooms</th>\n",
       "      <th>floor</th>\n",
       "      <th>rooms</th>\n",
       "      <th>surface</th>\n",
       "      <th>state</th>\n",
       "      <th>zone</th>\n",
       "      <th>ad_price</th>\n",
       "    </tr>\n",
       "  </thead>\n",
       "  <tbody>\n",
       "    <tr>\n",
       "      <th>0</th>\n",
       "      <td>1.0</td>\n",
       "      <td>0.500</td>\n",
       "      <td>2.0</td>\n",
       "      <td>82.0</td>\n",
       "      <td>1</td>\n",
       "      <td>89</td>\n",
       "      <td>750.0</td>\n",
       "    </tr>\n",
       "    <tr>\n",
       "      <th>1</th>\n",
       "      <td>1.0</td>\n",
       "      <td>0.250</td>\n",
       "      <td>2.0</td>\n",
       "      <td>65.0</td>\n",
       "      <td>3</td>\n",
       "      <td>100</td>\n",
       "      <td>350.0</td>\n",
       "    </tr>\n",
       "    <tr>\n",
       "      <th>2</th>\n",
       "      <td>1.0</td>\n",
       "      <td>0.000</td>\n",
       "      <td>2.0</td>\n",
       "      <td>72.0</td>\n",
       "      <td>1</td>\n",
       "      <td>88</td>\n",
       "      <td>372.0</td>\n",
       "    </tr>\n",
       "    <tr>\n",
       "      <th>3</th>\n",
       "      <td>1.0</td>\n",
       "      <td>0.333</td>\n",
       "      <td>2.0</td>\n",
       "      <td>65.0</td>\n",
       "      <td>2</td>\n",
       "      <td>110</td>\n",
       "      <td>470.0</td>\n",
       "    </tr>\n",
       "    <tr>\n",
       "      <th>4</th>\n",
       "      <td>1.0</td>\n",
       "      <td>2.000</td>\n",
       "      <td>2.0</td>\n",
       "      <td>45.0</td>\n",
       "      <td>1</td>\n",
       "      <td>58</td>\n",
       "      <td>290.0</td>\n",
       "    </tr>\n",
       "    <tr>\n",
       "      <th>...</th>\n",
       "      <td>...</td>\n",
       "      <td>...</td>\n",
       "      <td>...</td>\n",
       "      <td>...</td>\n",
       "      <td>...</td>\n",
       "      <td>...</td>\n",
       "      <td>...</td>\n",
       "    </tr>\n",
       "    <tr>\n",
       "      <th>848</th>\n",
       "      <td>1.0</td>\n",
       "      <td>0.250</td>\n",
       "      <td>1.0</td>\n",
       "      <td>45.0</td>\n",
       "      <td>2</td>\n",
       "      <td>127</td>\n",
       "      <td>360.0</td>\n",
       "    </tr>\n",
       "    <tr>\n",
       "      <th>849</th>\n",
       "      <td>2.0</td>\n",
       "      <td>0.000</td>\n",
       "      <td>3.0</td>\n",
       "      <td>85.0</td>\n",
       "      <td>2</td>\n",
       "      <td>81</td>\n",
       "      <td>700.0</td>\n",
       "    </tr>\n",
       "    <tr>\n",
       "      <th>850</th>\n",
       "      <td>1.0</td>\n",
       "      <td>0.600</td>\n",
       "      <td>2.0</td>\n",
       "      <td>60.0</td>\n",
       "      <td>1</td>\n",
       "      <td>135</td>\n",
       "      <td>480.0</td>\n",
       "    </tr>\n",
       "    <tr>\n",
       "      <th>851</th>\n",
       "      <td>1.0</td>\n",
       "      <td>1.000</td>\n",
       "      <td>2.0</td>\n",
       "      <td>57.0</td>\n",
       "      <td>2</td>\n",
       "      <td>85</td>\n",
       "      <td>300.0</td>\n",
       "    </tr>\n",
       "    <tr>\n",
       "      <th>852</th>\n",
       "      <td>1.0</td>\n",
       "      <td>0.667</td>\n",
       "      <td>2.0</td>\n",
       "      <td>68.0</td>\n",
       "      <td>2</td>\n",
       "      <td>52</td>\n",
       "      <td>699.0</td>\n",
       "    </tr>\n",
       "  </tbody>\n",
       "</table>\n",
       "<p>853 rows × 7 columns</p>\n",
       "</div>"
      ],
      "text/plain": [
       "     bathrooms  floor  rooms  surface  state  zone  ad_price\n",
       "0          1.0  0.500    2.0     82.0      1    89     750.0\n",
       "1          1.0  0.250    2.0     65.0      3   100     350.0\n",
       "2          1.0  0.000    2.0     72.0      1    88     372.0\n",
       "3          1.0  0.333    2.0     65.0      2   110     470.0\n",
       "4          1.0  2.000    2.0     45.0      1    58     290.0\n",
       "..         ...    ...    ...      ...    ...   ...       ...\n",
       "848        1.0  0.250    1.0     45.0      2   127     360.0\n",
       "849        2.0  0.000    3.0     85.0      2    81     700.0\n",
       "850        1.0  0.600    2.0     60.0      1   135     480.0\n",
       "851        1.0  1.000    2.0     57.0      2    85     300.0\n",
       "852        1.0  0.667    2.0     68.0      2    52     699.0\n",
       "\n",
       "[853 rows x 7 columns]"
      ]
     },
     "execution_count": 9,
     "metadata": {},
     "output_type": "execute_result"
    }
   ],
   "source": [
    "def preprocessing(df):\n",
    " \n",
    "    '''\n",
    "    #extract data\n",
    "    df[\"date\"]= pd.to_datetime(df[\"date\"])\n",
    "    df[\"day\"] = df[\"date\"].dt.day\n",
    "    df[\"month\"] = df[\"date\"].dt.month\n",
    "    df[\"year\"] = df[\"date\"].dt.year\n",
    "    df = df.drop(columns=[\"date\"])\n",
    "\n",
    "    #set types\n",
    "    df[\"price\"]= df[\"price\"].astype(\"int64\")\n",
    "    df[\"bedrooms\"]= df[\"bedrooms\"].astype(\"int64\")\n",
    "    df[\"bathrooms\"]= df[\"bathrooms\"].astype(\"int64\")\n",
    "    df[\"floors\"]= df[\"floors\"].astype(\"int64\")\n",
    "\n",
    "    #define binary features\n",
    "    df[\"basement\"] = [\"No\" if i == 0 else \"Yes\" for i in df[\"sqft_basement\"]]\n",
    "    df[\"situation\"] = [\"Former\" if i <= 1990 else \"New\" for i in df[\"yr_built\"]]\n",
    "    df[\"renewal_status\"] = [\"Not_renewed\" if i == 0 else \"Renewed\" for i in df[\"yr_renovated\"]]\n",
    "    '''\n",
    "\n",
    "    #convert categorical to numerical\n",
    "    lb = LabelEncoder()\n",
    "    cat_variable = df.dtypes==object\n",
    "    cat_variable = df.columns[cat_variable].tolist()\n",
    "    df[cat_variable] = df[cat_variable].apply(lambda col: lb.fit_transform(col.astype(str)))\n",
    "\n",
    "    return df   \n",
    "\n",
    "df = preprocessing(df)\n",
    "df"
   ]
  },
  {
   "cell_type": "code",
   "execution_count": 11,
   "id": "615b0596",
   "metadata": {},
   "outputs": [
    {
     "data": {
      "text/html": [
       "<div>\n",
       "<style scoped>\n",
       "    .dataframe tbody tr th:only-of-type {\n",
       "        vertical-align: middle;\n",
       "    }\n",
       "\n",
       "    .dataframe tbody tr th {\n",
       "        vertical-align: top;\n",
       "    }\n",
       "\n",
       "    .dataframe thead th {\n",
       "        text-align: right;\n",
       "    }\n",
       "</style>\n",
       "<table border=\"1\" class=\"dataframe\">\n",
       "  <thead>\n",
       "    <tr style=\"text-align: right;\">\n",
       "      <th></th>\n",
       "      <th>bathrooms</th>\n",
       "      <th>floor</th>\n",
       "      <th>rooms</th>\n",
       "      <th>surface</th>\n",
       "      <th>state</th>\n",
       "      <th>zone</th>\n",
       "      <th>ad_price</th>\n",
       "    </tr>\n",
       "  </thead>\n",
       "  <tbody>\n",
       "    <tr>\n",
       "      <th>count</th>\n",
       "      <td>853.000000</td>\n",
       "      <td>853.000000</td>\n",
       "      <td>853.000000</td>\n",
       "      <td>853.000000</td>\n",
       "      <td>853.000000</td>\n",
       "      <td>853.000000</td>\n",
       "      <td>853.000000</td>\n",
       "    </tr>\n",
       "    <tr>\n",
       "      <th>mean</th>\n",
       "      <td>1.215709</td>\n",
       "      <td>0.627067</td>\n",
       "      <td>2.243845</td>\n",
       "      <td>68.125440</td>\n",
       "      <td>2.154748</td>\n",
       "      <td>73.728019</td>\n",
       "      <td>500.113716</td>\n",
       "    </tr>\n",
       "    <tr>\n",
       "      <th>std</th>\n",
       "      <td>0.457475</td>\n",
       "      <td>0.863865</td>\n",
       "      <td>0.818851</td>\n",
       "      <td>31.489129</td>\n",
       "      <td>0.859614</td>\n",
       "      <td>30.460374</td>\n",
       "      <td>219.716110</td>\n",
       "    </tr>\n",
       "    <tr>\n",
       "      <th>min</th>\n",
       "      <td>1.000000</td>\n",
       "      <td>-1.000000</td>\n",
       "      <td>1.000000</td>\n",
       "      <td>11.000000</td>\n",
       "      <td>0.000000</td>\n",
       "      <td>0.000000</td>\n",
       "      <td>150.000000</td>\n",
       "    </tr>\n",
       "    <tr>\n",
       "      <th>25%</th>\n",
       "      <td>1.000000</td>\n",
       "      <td>0.000000</td>\n",
       "      <td>2.000000</td>\n",
       "      <td>54.000000</td>\n",
       "      <td>1.000000</td>\n",
       "      <td>52.000000</td>\n",
       "      <td>399.000000</td>\n",
       "    </tr>\n",
       "    <tr>\n",
       "      <th>50%</th>\n",
       "      <td>1.000000</td>\n",
       "      <td>0.500000</td>\n",
       "      <td>2.000000</td>\n",
       "      <td>63.000000</td>\n",
       "      <td>2.000000</td>\n",
       "      <td>73.000000</td>\n",
       "      <td>450.000000</td>\n",
       "    </tr>\n",
       "    <tr>\n",
       "      <th>75%</th>\n",
       "      <td>1.000000</td>\n",
       "      <td>0.875000</td>\n",
       "      <td>3.000000</td>\n",
       "      <td>76.000000</td>\n",
       "      <td>3.000000</td>\n",
       "      <td>89.000000</td>\n",
       "      <td>550.000000</td>\n",
       "    </tr>\n",
       "    <tr>\n",
       "      <th>max</th>\n",
       "      <td>4.000000</td>\n",
       "      <td>9.000000</td>\n",
       "      <td>10.000000</td>\n",
       "      <td>500.000000</td>\n",
       "      <td>3.000000</td>\n",
       "      <td>135.000000</td>\n",
       "      <td>3000.000000</td>\n",
       "    </tr>\n",
       "  </tbody>\n",
       "</table>\n",
       "</div>"
      ],
      "text/plain": [
       "        bathrooms       floor       rooms     surface       state        zone  \\\n",
       "count  853.000000  853.000000  853.000000  853.000000  853.000000  853.000000   \n",
       "mean     1.215709    0.627067    2.243845   68.125440    2.154748   73.728019   \n",
       "std      0.457475    0.863865    0.818851   31.489129    0.859614   30.460374   \n",
       "min      1.000000   -1.000000    1.000000   11.000000    0.000000    0.000000   \n",
       "25%      1.000000    0.000000    2.000000   54.000000    1.000000   52.000000   \n",
       "50%      1.000000    0.500000    2.000000   63.000000    2.000000   73.000000   \n",
       "75%      1.000000    0.875000    3.000000   76.000000    3.000000   89.000000   \n",
       "max      4.000000    9.000000   10.000000  500.000000    3.000000  135.000000   \n",
       "\n",
       "          ad_price  \n",
       "count   853.000000  \n",
       "mean    500.113716  \n",
       "std     219.716110  \n",
       "min     150.000000  \n",
       "25%     399.000000  \n",
       "50%     450.000000  \n",
       "75%     550.000000  \n",
       "max    3000.000000  "
      ]
     },
     "execution_count": 11,
     "metadata": {},
     "output_type": "execute_result"
    }
   ],
   "source": [
    "df.describe()"
   ]
  },
  {
   "cell_type": "code",
   "execution_count": 12,
   "id": "5b2c180a",
   "metadata": {},
   "outputs": [],
   "source": [
    "X = df.drop(columns=['ad_price'])\n",
    "y = df[\"ad_price\"]\n",
    "\n",
    "from sklearn.model_selection import train_test_split\n",
    "X_train,X_test,y_train,y_test = train_test_split(X,y, test_size=0.2)"
   ]
  },
  {
   "cell_type": "markdown",
   "id": "04dd8c67",
   "metadata": {
    "papermill": {
     "duration": 0.085989,
     "end_time": "2022-01-09T13:36:43.001168",
     "exception": false,
     "start_time": "2022-01-09T13:36:42.915179",
     "status": "completed"
    },
    "tags": []
   },
   "source": [
    "# Predictions"
   ]
  },
  {
   "cell_type": "code",
   "execution_count": 13,
   "id": "9f27783f",
   "metadata": {},
   "outputs": [
    {
     "name": "stdout",
     "output_type": "stream",
     "text": [
      "0.5939432953332147\n",
      "0.6461721173852648\n",
      "0.574767631825648\n",
      "0.9277489710995996\n",
      "0.9032929133919311\n",
      "0.7212535239318143\n",
      "0.9094139860580088\n",
      "0.7614632924579746\n"
     ]
    }
   ],
   "source": [
    "#load the model from disk\n",
    "lr = pickle.load(open('models/lr.sav', 'rb'))\n",
    "result = lr.score(X_test, y_test)\n",
    "print(result)\n",
    "\n",
    "knn = pickle.load(open('models/knn.sav', 'rb'))\n",
    "result = knn.score(X_test, y_test)\n",
    "print(result)\n",
    "\n",
    "svc = pickle.load(open('models/svc.sav', 'rb'))\n",
    "result = svc.score(X_test, y_test)\n",
    "print(result)\n",
    "\n",
    "tree = pickle.load(open('models/tree.sav', 'rb'))\n",
    "result = tree.score(X_test, y_test)\n",
    "print(result)\n",
    "\n",
    "forest = pickle.load(open('models/forest.sav', 'rb'))\n",
    "result = forest.score(X_test, y_test)\n",
    "print(result)\n",
    "\n",
    "gb = pickle.load(open('models/gb.sav', 'rb'))\n",
    "result = gb.score(X_test, y_test)\n",
    "print(result)\n",
    "\n",
    "xgb = pickle.load(open('models/xgb.sav', 'rb'))\n",
    "result = xgb.score(X_test, y_test)\n",
    "print(result)\n",
    "\n",
    "lgbm = pickle.load(open('models/lgbm.sav', 'rb'))\n",
    "result = lgbm.score(X_test, y_test)\n",
    "print(result)"
   ]
  },
  {
   "cell_type": "code",
   "execution_count": 14,
   "id": "741c3522",
   "metadata": {},
   "outputs": [
    {
     "name": "stdout",
     "output_type": "stream",
     "text": [
      "1423.3608121601942 1350.0\n",
      "465.5943669174872 350.0\n",
      "389.7825243808425 370.0\n",
      "580.9174527129476 450.0\n",
      "398.97584515819887 350.0\n",
      "895.2837390922728 1200.0\n",
      "389.1472014478264 500.0\n",
      "464.86159910290786 480.0\n",
      "460.34898071923686 650.0\n",
      "479.1005594349686 480.0\n"
     ]
    }
   ],
   "source": [
    "preds = svc.predict(X_test)\n",
    "y_test = y_test.reset_index(drop=True)\n",
    "for i in range(10):\n",
    "    print(preds[i], y_test[i])\n"
   ]
  },
  {
   "cell_type": "code",
   "execution_count": 22,
   "id": "58046e4b",
   "metadata": {},
   "outputs": [
    {
     "data": {
      "text/plain": [
       "array([550.35596528, 550.35596528])"
      ]
     },
     "execution_count": 22,
     "metadata": {},
     "output_type": "execute_result"
    }
   ],
   "source": [
    "#'model_name' = 'lr'\n",
    "input_json = [{ \n",
    "    'bathrooms': 2, \n",
    "    'floor': 0.5, \n",
    "    'rooms': 3, \n",
    "    'surface': 78, \n",
    "    'state': 'nou', \n",
    "    'zone': 'Buna Ziua'\n",
    "},\n",
    "{\n",
    "    'bathrooms': 2, \n",
    "    'floor': 0.5, \n",
    "    'rooms': 3, \n",
    "    'surface': 78, \n",
    "    'state': 'nou', \n",
    "    'zone': 'Marasti'\n",
    "}]\n",
    "\n",
    "\n",
    "#input_df = preprocess_type(input_json)\n",
    "input_df = preprocessing(pd.DataFrame(input_json))\n",
    "gb.predict(pd.DataFrame(input_df))"
   ]
  },
  {
   "cell_type": "code",
   "execution_count": null,
   "id": "7210a6b3",
   "metadata": {},
   "outputs": [],
   "source": []
  },
  {
   "cell_type": "markdown",
   "id": "727621c4",
   "metadata": {},
   "source": [
    "# API code"
   ]
  },
  {
   "cell_type": "code",
   "execution_count": 18,
   "id": "65e6a31e",
   "metadata": {},
   "outputs": [
    {
     "name": "stdout",
     "output_type": "stream",
     "text": [
      " * Serving Flask app '__main__' (lazy loading)\n",
      " * Environment: production\n",
      "\u001b[31m   WARNING: This is a development server. Do not use it in a production deployment.\u001b[0m\n",
      "\u001b[2m   Use a production WSGI server instead.\u001b[0m\n",
      " * Debug mode: off\n"
     ]
    },
    {
     "name": "stderr",
     "output_type": "stream",
     "text": [
      " * Running on all addresses.\n",
      "   WARNING: This is a development server. Do not use it in a production deployment.\n",
      " * Running on http://172.17.0.3:5320/ (Press CTRL+C to quit)\n"
     ]
    }
   ],
   "source": [
    "import flask\n",
    "import string\n",
    "from flask import request, jsonify, Flask\n",
    "import json\n",
    "from json_tricks import dumps\n",
    "import sys\n",
    "\n",
    "#sys.path.insert(1, 'accept-except')\n",
    "#from preprocessing_fixed_size import X_to_Xfixed, preprocessing, get_window_size\n",
    "\n",
    "app = Flask(__name__)\n",
    "\n",
    "#load the model from disk\n",
    "lr = pickle.load(open('models/lr.sav', 'rb'))\n",
    "knn = pickle.load(open('models/knn.sav', 'rb'))\n",
    "svc = pickle.load(open('models/svc.sav', 'rb'))\n",
    "tree = pickle.load(open('models/tree.sav', 'rb'))\n",
    "forest = pickle.load(open('models/forest.sav', 'rb'))\n",
    "gb = pickle.load(open('models/gb.sav', 'rb'))\n",
    "xgb = pickle.load(open('models/xgb.sav', 'rb'))\n",
    "lgbm = pickle.load(open('models/lgbm.sav', 'rb'))\n",
    "\n",
    "    \n",
    "#____________________________________________________________________#\n",
    "\n",
    "\n",
    "@app.route('/', methods=['POST'])\n",
    "def predict():\n",
    "    try:\n",
    "        input = request.get_json()\n",
    "        print('Input', input)\n",
    "        input_df =  preprocessing(pd.DataFrame(input_json))\n",
    "        print('Input_df', input_df)\n",
    "    except Exception:\n",
    "        print(\"Input exception: The received input is not in a valid json format!\")\n",
    "        return jsonify({})\n",
    "   \n",
    "  \n",
    "    preds = gb.predict(input_df)\n",
    "    print('Preds: ', preds)\n",
    "    return dumps(preds) #jsonify(pred)\n",
    "\n",
    "if __name__ == '__main__':\n",
    "    #app.debug = True\n",
    "    app.run(host='0.0.0.0', port=5320, threaded=True)\n",
    "\n",
    "\n"
   ]
  },
  {
   "cell_type": "code",
   "execution_count": null,
   "id": "cd04ac42",
   "metadata": {},
   "outputs": [],
   "source": []
  }
 ],
 "metadata": {
  "interpreter": {
   "hash": "31f2aee4e71d21fbe5cf8b01ff0e069b9275f58929596ceb00d14d90e3e16cd6"
  },
  "kernelspec": {
   "display_name": "Python 3.8.10 64-bit",
   "language": "python",
   "name": "python3"
  },
  "language_info": {
   "codemirror_mode": {
    "name": "ipython",
    "version": 3
   },
   "file_extension": ".py",
   "mimetype": "text/x-python",
   "name": "python",
   "nbconvert_exporter": "python",
   "pygments_lexer": "ipython3",
   "version": "3.6.9"
  },
  "papermill": {
   "default_parameters": {},
   "duration": 45.246542,
   "end_time": "2022-01-09T13:36:54.906904",
   "environment_variables": {},
   "exception": null,
   "input_path": "__notebook__.ipynb",
   "output_path": "__notebook__.ipynb",
   "parameters": {},
   "start_time": "2022-01-09T13:36:09.660362",
   "version": "2.3.3"
  }
 },
 "nbformat": 4,
 "nbformat_minor": 5
}
